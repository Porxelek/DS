{
  "metadata": {
    "kernelspec": {
      "language": "python",
      "display_name": "Python 3",
      "name": "python3"
    },
    "language_info": {
      "pygments_lexer": "ipython3",
      "nbconvert_exporter": "python",
      "version": "3.6.4",
      "file_extension": ".py",
      "codemirror_mode": {
        "name": "ipython",
        "version": 3
      },
      "name": "python",
      "mimetype": "text/x-python"
    },
    "colab": {
      "provenance": [],
      "include_colab_link": true
    }
  },
  "nbformat_minor": 0,
  "nbformat": 4,
  "cells": [
    {
      "cell_type": "markdown",
      "metadata": {
        "id": "view-in-github",
        "colab_type": "text"
      },
      "source": [
        "<a href=\"https://colab.research.google.com/github/Porxelek/DS/blob/main/python_ile_duygu_analizi_twitter_api_textblob.ipynb\" target=\"_parent\"><img src=\"https://colab.research.google.com/assets/colab-badge.svg\" alt=\"Open In Colab\"/></a>"
      ]
    },
    {
      "cell_type": "markdown",
      "source": [
        "# Twitter Madenciliği : Python ile Duygu Analizi\n",
        "Merhaba, bu notebook **Laba Türkiye** ve **Deniz Alkan** tarafından düzenlenen **Python ile Duygu Analizi** adlı webinarın kaynak kodlarını içermektedir.\n",
        "\n",
        "Kaggle hesabı oluşturarak bu notebook'u kopyalayabilir ve dilediğiniz gibi değiştirebilirsiniz. Notebook Settings kısmında Internet ayarını açarak Tweepy, Textblob ve Wordcloud kütüphanelerinin yüklemesini konsol ekranından yapabilirsiniz. Hata almanız durumunda kodları kendi bilgisayarınıza indirerek çalıştırabilirsiniz.\n",
        "\n",
        "Notebook'a oy vererek daha üst sıralarda gözükmesini sağlayabilirsiniz.\n",
        "\n",
        "İlginiz için teşekkür eder, başarılar dilerim. \n",
        "\n",
        "# İçerik :\n",
        "\n",
        "* Twitter API ile Verilerin Çekilmesi\n",
        "* Regex Kütüphanesi ile Veri Temizleme\n",
        "* TextBlob Kütüpahnesi ile Duygu Analizi\n",
        "* WordCloud Kütüphanesi ile Görselleştirme\n"
      ],
      "metadata": {
        "_uuid": "8f2839f25d086af736a60e9eeb907d3b93b6e0e5",
        "_cell_guid": "b1076dfc-b9ad-4769-8c92-a6c4dae69d19",
        "id": "YGtWfl4U-CY8"
      }
    },
    {
      "cell_type": "code",
      "source": [
        "# Kütüphanelerin import edilmesi.\n",
        "import re\n",
        "import os\n",
        "import numpy as np\n",
        "import pandas as pd\n",
        "import tweepy \n",
        "from textblob import TextBlob\n",
        "from wordcloud import WordCloud,STOPWORDS\n",
        "\n",
        "# Twitter Developer Account ile alınan key ve token değerlerinin girilmesi.\n",
        "consumer_key=\"consumer_key\"\n",
        "consumer_secret=\"consumer_secret\"\n",
        "access_token=\"access_token\"\n",
        "access_token_secret=\"access_token_secret\"\n",
        "\n",
        "# Tweepy kütüphanesini kullanarak Twitter API ile bağlantı kurulması.\n",
        "auth = tweepy.OAuthHandler(consumer_key, consumer_secret,access_token,access_token_secret)\n",
        "api = tweepy.API(auth)\n",
        "\n",
        "# Twitter timeline'da yer alan 50 tweet'in çekilmesi.\n",
        "timeline_tweets = api.home_timeline(count=50)\n",
        "print(timeline_tweets[0].text)\n",
        "print(timeline_tweets[1].retweet_count)\n",
        "print(\"Tweet Text : \\n \", timeline_tweets[49].text ,\"\\n Retweet Count :\"  , timeline_tweets[49].retweet_count)\n",
        "\n",
        "# Tweet atmak için kullanılacak fonksiyon.\n",
        "api.update_status(\"Bu bir test tweetidir.\")\n",
        "\n",
        "# DataScience kelimesini içeren tweet'lerin çekilmesi.\n",
        "ds_tweets = api.search_tweets(\"DataScience -filter:retweets\",count=100, tweet_mode = \"extended\",lang=\"en\")\n",
        "\n",
        "# Toplanan verilerin listeye dönüştürülmesi.\n",
        "\n",
        "ds_list = []\n",
        "\n",
        "for i in ds_tweets:\n",
        "# Verilerin Regex ile temizlenmesi.\n",
        "    clean_tweet = re.sub(\"#|https([^\\s]+)|@([^\\s]+)\",\"\",i.full_text)\n",
        "# TextBlob ile Duygu Analizinin yapılması.\n",
        "    st_tweet = TextBlob(clean_tweet)\n",
        "# Listeye değer ekleme.\n",
        "    ds_list.append([clean_tweet,st_tweet.sentiment.polarity,st_tweet.sentiment.subjectivity])\n",
        "\n",
        "# Liste formatındaki verilerin DataFrame'e dönüştürülmesi.\n",
        "df_tweets = pd.DataFrame(data=ds_list,columns=[\"Tweet\",\"Polarity\",\"Subjectivity\"])\n",
        "\n",
        "# WORDCLOUD kütüphanesi ile tweet'lerde en çok geçen kelimelerin grafik haline getirilmesi.\n",
        "\n",
        "sw=set(STOPWORDS)\n",
        "\n",
        "string_tweets = str(df_tweets[\"Tweet\"].values)\n",
        "\n",
        "word_cloud = WordCloud(stopwords=sw, background_color=\"white\",width=1500, height=1000).generate(string_tweets)\n",
        "\n",
        "word_cloud.to_image().show()\n",
        "\n",
        "word_cloud.to_file(\"WordCloud.png\")"
      ],
      "metadata": {
        "id": "6S_6iFVT-CZH"
      },
      "execution_count": null,
      "outputs": []
    }
  ]
}